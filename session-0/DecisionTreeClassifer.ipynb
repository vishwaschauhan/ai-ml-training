{
 "cells": [
  {
   "cell_type": "code",
   "execution_count": 5,
   "metadata": {
    "collapsed": false
   },
   "outputs": [
    {
     "name": "stdout",
     "output_type": "stream",
     "text": [
      "[1]\n"
     ]
    }
   ],
   "source": [
    "# Part 1 - Hello World - https://youtu.be/cKxRvEZd3Mw\n",
    "\n",
    "# Follow a recipe for supervised learning (a technique to create a classifier from examples) and code it up.\n",
    "\n",
    "from sklearn import tree\n",
    "\n",
    "# Examples\n",
    "# Weight Texture Label\n",
    "# 150g   Bumpy   Orange\n",
    "# 170g   Bumpy   Orange\n",
    "# 140g   Smooth  Apple\n",
    "# 130g   Smooth  Apple\n",
    "\n",
    "# Training Data\n",
    "# features = [[140, \"smooth\"], [130, \"smooth\"], [150, \"bumpy\"], [170, \"bumpy\"]]  # Input to classifier\n",
    "features = [[140, 1], [130, 1], [150, 0], [170, 0]]  # scikit-learn uses real-valued features\n",
    "# labels = [\"apple\", \"apple\", \"orange\", \"orange\"]  # Desired output\n",
    "labels = [0, 0, 1, 1]\n",
    "\n",
    "# Train Classifier\n",
    "clf = tree.DecisionTreeClassifier()  # Decision Tree classifier\n",
    "clf = clf.fit(features, labels)  # Find patterns in data\n",
    "\n",
    "print(clf.predict([[160, 0]]))\n",
    "# Make Predictions\n",
    "# print clf.predict([[160, 0]])\n",
    "# Output: 0-apple, 1-orange\n",
    "# Correct output is: 1-orange\n"
   ]
  },
  {
   "cell_type": "code",
   "execution_count": 2,
   "metadata": {
    "collapsed": false
   },
   "outputs": [
    {
     "name": "stdout",
     "output_type": "stream",
     "text": [
      "['sepal length (cm)', 'sepal width (cm)', 'petal length (cm)', 'petal width (cm)']\n",
      "['setosa' 'versicolor' 'virginica']\n",
      "[ 5.1  3.5  1.4  0.2]\n",
      "0\n",
      "[ 5.1  3.5  1.4  0.2]\n",
      "0\n",
      "[0 1 2]\n",
      "[0 1 2]\n"
     ]
    },
    {
     "data": {
      "text/plain": [
       "True"
      ]
     },
     "execution_count": 2,
     "metadata": {},
     "output_type": "execute_result"
    }
   ],
   "source": [
    "# Build one on a real dataset, add code to visualize it, and practice reading it - so you can see how it works under the\n",
    "# hood.\n",
    "\n",
    "# Use Iris flower data set: https://en.wikipedia.org/wiki/Iris_flower_data_set\n",
    "# Identify type of flower based on measurements\n",
    "# Dataset includes 3 species of Iris flowers: setosa, versicolor, virginica\n",
    "# 4 features used to describe: length and width of sepal and petal\n",
    "# 50 examples of each type for 150 total examples\n",
    "\n",
    "# Goals\n",
    "# 1-Import dataset\n",
    "# 2-Train a classifier\n",
    "# 3-Predict label for new flower\n",
    "# 4-Visualize the tree\n",
    "\n",
    "# scikit-learn datasets: http://scikit-learn.org/stable/datasets/\n",
    "# already includes Iris dataset: load_iris\n",
    "\n",
    "from sklearn.datasets import load_iris\n",
    "\n",
    "iris = load_iris()\n",
    "\n",
    "print(iris.feature_names)  # metadata: names of the features\n",
    "print(iris.target_names) # metadata: names of the different types of flowers\n",
    "\n",
    "#Python 3.6.0 |Anaconda 4.3.1\n",
    "#print(iris.feature_names)\n",
    "#print(iris.target_names)\n",
    "\n",
    "# print iris.data  # features and examples themselves\n",
    "print(iris.data[0])  # first flower\n",
    "print(iris.target[0])  # contains the labels\n",
    "\n",
    "#Python 3.6.0 |Anaconda 4.3.1\n",
    "print(iris.data[0])\n",
    "print(iris.target[0])\n",
    "\n",
    "# print entire dataset\n",
    "# for i in xrange(len(iris.target)):\n",
    "#     print \"Example %d: label %s, features %s\" % (i, iris.target[i], iris.data[i])\n",
    "\n",
    "# Testing Data\n",
    "# Examples used to test the classifier's accuracy\n",
    "# Not part of the training data\n",
    "\n",
    "import numpy as np\n",
    "from sklearn.datasets import load_iris\n",
    "from sklearn import tree\n",
    "\n",
    "iris = load_iris()\n",
    "# here, we remove the first example of each flower\n",
    "# found at indices: 0, 50, 100\n",
    "test_idx = [0, 50, 100]\n",
    "\n",
    "# create 2 new sets of variables, for training and testing\n",
    "# training data\n",
    "# remove the entires from the data and target variables\n",
    "train_target = np.delete(iris.target, test_idx)\n",
    "train_data = np.delete(iris.data, test_idx, axis=0)\n",
    "\n",
    "# testing data\n",
    "test_target = iris.target[test_idx]\n",
    "test_data = iris.data[test_idx]\n",
    "\n",
    "# create new classifier\n",
    "clf = tree.DecisionTreeClassifier()\n",
    "# train on training data\n",
    "clf.fit(train_data, train_target)\n",
    "\n",
    "# what we expect\n",
    "print(test_target)\n",
    "\n",
    "#Python 3.6.0 |Anaconda 4.3.1\n",
    "#print(test_target)\n",
    "\n",
    "# what tree predicts\n",
    "print(clf.predict(test_data))\n",
    "\n",
    "#Python 3.6.0 |Anaconda 4.3.1\n",
    "#print clf.predict(test_data)\n",
    "\n",
    "# Visualize\n",
    "# from scikit decision tree tutorial: http://scikit-learn.org/stable/modules/tree.html\n",
    "from sklearn.externals.six import StringIO\n",
    "import pydot\n",
    "\n",
    "dot_data = StringIO()\n",
    "tree.export_graphviz(clf, out_file=dot_data,\n",
    "                     feature_names=iris.feature_names,\n",
    "                     class_names=iris.target_names,\n",
    "                     filled=True, rounded=True,\n",
    "                     impurity=False)\n",
    "graph = pydot.graph_from_dot_data(dot_data.getvalue())\n",
    "graph.write_pdf(\"iris.pdf\")\n"
   ]
  },
  {
   "cell_type": "code",
   "execution_count": null,
   "metadata": {
    "collapsed": true
   },
   "outputs": [],
   "source": []
  },
  {
   "cell_type": "code",
   "execution_count": null,
   "metadata": {
    "collapsed": true
   },
   "outputs": [],
   "source": []
  },
  {
   "cell_type": "code",
   "execution_count": null,
   "metadata": {
    "collapsed": true
   },
   "outputs": [],
   "source": []
  }
 ],
 "metadata": {
  "kernelspec": {
   "display_name": "Python 3",
   "language": "python",
   "name": "python3"
  },
  "language_info": {
   "codemirror_mode": {
    "name": "ipython",
    "version": 3
   },
   "file_extension": ".py",
   "mimetype": "text/x-python",
   "name": "python",
   "nbconvert_exporter": "python",
   "pygments_lexer": "ipython3",
   "version": "3.6.0"
  }
 },
 "nbformat": 4,
 "nbformat_minor": 2
}
